{
  "nbformat": 4,
  "nbformat_minor": 0,
  "metadata": {
    "colab": {
      "name": "Tarea 27/6.ipynb",
      "provenance": [],
      "include_colab_link": true
    },
    "kernelspec": {
      "name": "python3",
      "display_name": "Python 3"
    },
    "language_info": {
      "name": "python"
    }
  },
  "cells": [
    {
      "cell_type": "markdown",
      "metadata": {
        "id": "view-in-github",
        "colab_type": "text"
      },
      "source": [
        "<a href=\"https://colab.research.google.com/github/emiliabullano/Herramientas-Computacionales/blob/main/Tarea_1_Python.ipynb\" target=\"_parent\"><img src=\"https://colab.research.google.com/assets/colab-badge.svg\" alt=\"Open In Colab\"/></a>"
      ]
    },
    {
      "cell_type": "markdown",
      "metadata": {
        "id": "xIHcJRW7Rnz-"
      },
      "source": [
        "# Tarea Python. \n",
        "# Maria Emilia Bullano y Gastón García Zavaleta\n"
      ]
    },
    {
      "cell_type": "markdown",
      "metadata": {
        "id": "9MnLbwupTjPZ"
      },
      "source": [
        "Cargar base de datos"
      ]
    },
    {
      "cell_type": "code",
      "metadata": {
        "colab": {
          "resources": {
            "http://localhost:8080/nbextensions/google.colab/files.js": {
              "data": "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",
              "ok": true,
              "headers": [
                [
                  "content-type",
                  "application/javascript"
                ]
              ],
              "status": 200,
              "status_text": ""
            }
          },
          "base_uri": "https://localhost:8080/",
          "height": 72
        },
        "id": "Z1qtceUDTmAH",
        "outputId": "0cbf95d1-4e00-4785-ead1-f8ace48fbe96"
      },
      "source": [
        "from google.colab import files\n",
        "uploaded = files.upload()"
      ],
      "execution_count": 3,
      "outputs": [
        {
          "output_type": "display_data",
          "data": {
            "text/html": [
              "\n",
              "     <input type=\"file\" id=\"files-daf4562e-c90b-44f3-ab21-3b71f7cb0d58\" name=\"files[]\" multiple disabled\n",
              "        style=\"border:none\" />\n",
              "     <output id=\"result-daf4562e-c90b-44f3-ab21-3b71f7cb0d58\">\n",
              "      Upload widget is only available when the cell has been executed in the\n",
              "      current browser session. Please rerun this cell to enable.\n",
              "      </output>\n",
              "      <script src=\"/nbextensions/google.colab/files.js\"></script> "
            ],
            "text/plain": [
              "<IPython.core.display.HTML object>"
            ]
          },
          "metadata": {
            "tags": []
          }
        },
        {
          "output_type": "stream",
          "text": [
            "Saving base_tarea.xls to base_tarea.xls\n"
          ],
          "name": "stdout"
        }
      ]
    },
    {
      "cell_type": "markdown",
      "metadata": {
        "id": "VSVafvm87Z5I"
      },
      "source": [
        "Abrir liberías. Pandas, IO y Numpy"
      ]
    },
    {
      "cell_type": "code",
      "metadata": {
        "id": "wy0Y-21_ULrc"
      },
      "source": [
        "import pandas as pd\n",
        "import numpy as np\n",
        "import io\n"
      ],
      "execution_count": 4,
      "outputs": []
    },
    {
      "cell_type": "markdown",
      "metadata": {
        "id": "Wz80Gr7m8AHF"
      },
      "source": [
        "Abrir base de datos"
      ]
    },
    {
      "cell_type": "code",
      "metadata": {
        "id": "W1pxwGgSUnzr"
      },
      "source": [
        "df = pd.read_excel('base_tarea.xls')"
      ],
      "execution_count": 5,
      "outputs": []
    },
    {
      "cell_type": "markdown",
      "metadata": {
        "id": "w2MfUIDqV_Wq"
      },
      "source": [
        "# 1- \tMostrar las primeras y últimas 5 filas de la base "
      ]
    },
    {
      "cell_type": "code",
      "metadata": {
        "colab": {
          "base_uri": "https://localhost:8080/"
        },
        "id": "vV833QuOVWx4",
        "outputId": "4948c1c3-7765-4af4-ebed-7a0a1d09da34"
      },
      "source": [
        "print(df.head(n=5))"
      ],
      "execution_count": 6,
      "outputs": [
        {
          "output_type": "stream",
          "text": [
            "   Year      ID  ... Labor_Hours       date\n",
            "0  2013  103381  ...       22392 2003-06-17\n",
            "1  2013  103404  ...       28447 2005-09-21\n",
            "2  2013  100759  ...      474784 2001-01-13\n",
            "3  2013  103246  ...       29193 2006-01-03\n",
            "4  2013  103451  ...       46393 2007-05-21\n",
            "\n",
            "[5 rows x 12 columns]\n"
          ],
          "name": "stdout"
        }
      ]
    },
    {
      "cell_type": "code",
      "metadata": {
        "id": "hWB4XVtiVwQu",
        "colab": {
          "base_uri": "https://localhost:8080/"
        },
        "outputId": "19d557e0-ae74-498f-ac0f-677c07e6136f"
      },
      "source": [
        "print(df.tail(n=5))"
      ],
      "execution_count": 5,
      "outputs": [
        {
          "output_type": "stream",
          "text": [
            "      Year       ID  ... Labor_Hours       date\n",
            "1445  2013  1103254  ...        8249 2006-02-05\n",
            "1446  2013  1102636  ...        1449 2007-02-07\n",
            "1447  2013  4407233  ...       43684 2002-08-17\n",
            "1448  2013  1518524  ...         622 2002-08-16\n",
            "1449  2013  1519685  ...        1020 2005-09-28\n",
            "\n",
            "[5 rows x 12 columns]\n"
          ],
          "name": "stdout"
        }
      ]
    },
    {
      "cell_type": "markdown",
      "metadata": {
        "id": "aU89VmjnXIp2"
      },
      "source": [
        "# 2- Obtener los tipos de datos de las variables. "
      ]
    },
    {
      "cell_type": "code",
      "metadata": {
        "colab": {
          "base_uri": "https://localhost:8080/"
        },
        "id": "f--WzdaHXOzS",
        "outputId": "040ed2cc-6e4c-4fd1-a390-84d051bf327e"
      },
      "source": [
        "print(df.dtypes)"
      ],
      "execution_count": null,
      "outputs": [
        {
          "output_type": "stream",
          "text": [
            "Year                          int64\n",
            "ID                            int64\n",
            "Name                         object\n",
            "State                        object\n",
            "County                       object\n",
            "columna_nueva               float64\n",
            "Status                       object\n",
            "Type                         object\n",
            "Company Type                 object\n",
            "Production                    int64\n",
            "Average Employees             int64\n",
            "Labor_Hours                   int64\n",
            "date                 datetime64[ns]\n",
            "dtype: object\n"
          ],
          "name": "stdout"
        }
      ]
    },
    {
      "cell_type": "markdown",
      "metadata": {
        "id": "MXzGJcolXZCH"
      },
      "source": [
        "# 3-\tMostrar las primeras y últimas filas de la base de 3 columnas que elijamos (Year, State y Production) "
      ]
    },
    {
      "cell_type": "code",
      "metadata": {
        "colab": {
          "base_uri": "https://localhost:8080/"
        },
        "id": "qjiqlyT9XYwN",
        "outputId": "085c1104-7a7c-4cfa-8067-81fe1b9dbb8e"
      },
      "source": [
        "df2 = df[[\"Year\", \"State\", \"Production\"]]\n",
        "print(df2.head(n=5))\n",
        "print(df2.tail(n=5))"
      ],
      "execution_count": null,
      "outputs": [
        {
          "output_type": "stream",
          "text": [
            "   Year    State  Production\n",
            "0  2013  Alabama       56004\n",
            "1  2013  Alabama       28807\n",
            "2  2013  Alabama     1440115\n",
            "3  2013  Alabama       87587\n",
            "4  2013  Alabama      147499\n",
            "      Year            State  Production\n",
            "1445  2013  Refuse Recovery       18532\n",
            "1446  2013  Refuse Recovery        5070\n",
            "1447  2013  Refuse Recovery      377607\n",
            "1448  2013  Refuse Recovery        7744\n",
            "1449  2013  Refuse Recovery       17357\n"
          ],
          "name": "stdout"
        }
      ]
    },
    {
      "cell_type": "markdown",
      "metadata": {
        "id": "pPIfFvnMZCJV"
      },
      "source": [
        "# 4-\tMostrar las estadísticas básicas (media, sd, min, max) de \"Production\"."
      ]
    },
    {
      "cell_type": "code",
      "metadata": {
        "colab": {
          "base_uri": "https://localhost:8080/"
        },
        "id": "HqudtbmGZJpI",
        "outputId": "9d1b3bf1-4fd1-4ded-eba2-b79aac4656a4"
      },
      "source": [
        "print((df[\"Production\"].describe()))"
      ],
      "execution_count": null,
      "outputs": [
        {
          "output_type": "stream",
          "text": [
            "count    1.450000e+03\n",
            "mean     6.792012e+05\n",
            "std      4.414922e+06\n",
            "min      0.000000e+00\n",
            "25%      0.000000e+00\n",
            "50%      3.060650e+04\n",
            "75%      2.514752e+05\n",
            "max      1.110055e+08\n",
            "Name: Production, dtype: float64\n"
          ],
          "name": "stdout"
        }
      ]
    },
    {
      "cell_type": "markdown",
      "metadata": {
        "id": "nmS5vWFh8lK2"
      },
      "source": [
        "# 5-\tInsertar una columna en la quinta posición y llenarla de valores NaN "
      ]
    },
    {
      "cell_type": "code",
      "metadata": {
        "id": "qXpmEHqSa7ny"
      },
      "source": [
        "df.insert(4, \"columna_nueva\", np.nan, allow_duplicates=False)"
      ],
      "execution_count": 6,
      "outputs": []
    },
    {
      "cell_type": "markdown",
      "metadata": {
        "id": "P_3DONP1cowS"
      },
      "source": [
        "Corroboramos que efectivamente se crea la columna en la quinta posición"
      ]
    },
    {
      "cell_type": "code",
      "metadata": {
        "colab": {
          "base_uri": "https://localhost:8080/"
        },
        "id": "bgsVxL4scYM6",
        "outputId": "c9901a79-ca28-4635-9690-2f46305176eb"
      },
      "source": [
        "print(df.dtypes)"
      ],
      "execution_count": 7,
      "outputs": [
        {
          "output_type": "stream",
          "text": [
            "Year                          int64\n",
            "ID                            int64\n",
            "Name                         object\n",
            "State                        object\n",
            "columna_nueva               float64\n",
            "County                       object\n",
            "Status                       object\n",
            "Type                         object\n",
            "Company Type                 object\n",
            "Production                    int64\n",
            "Average Employees             int64\n",
            "Labor_Hours                   int64\n",
            "date                 datetime64[ns]\n",
            "dtype: object\n"
          ],
          "name": "stdout"
        }
      ]
    },
    {
      "cell_type": "markdown",
      "metadata": {
        "id": "Au_nfh9Mc0g8"
      },
      "source": [
        "# 6-\tImportar a un dataframe los datos saltando las primeras 10 filas"
      ]
    },
    {
      "cell_type": "code",
      "metadata": {
        "id": "mEZfaZlwc2xh"
      },
      "source": [
        "df3 = pd.read_excel('base_tarea.xls', skiprows=[i for i in range(1,11)])"
      ],
      "execution_count": 8,
      "outputs": []
    },
    {
      "cell_type": "markdown",
      "metadata": {
        "id": "bQk6z1oL89DA"
      },
      "source": [
        "Chequeamos"
      ]
    },
    {
      "cell_type": "code",
      "metadata": {
        "id": "AfJCN4PKdkhJ",
        "colab": {
          "base_uri": "https://localhost:8080/"
        },
        "outputId": "e8a817c9-43d2-40b5-b0a2-a6a08f934501"
      },
      "source": [
        "print(df3.head(10))"
      ],
      "execution_count": 9,
      "outputs": [
        {
          "output_type": "stream",
          "text": [
            "   Year      ID  ... Labor_Hours       date\n",
            "0  2013  103180  ...      196963 2005-09-28\n",
            "1  2013  103182  ...       87314 2005-09-30\n",
            "2  2013  103285  ...       90584 2006-03-07\n",
            "3  2013  103332  ...       61394 2007-12-07\n",
            "4  2013  103375  ...        1900 2002-12-07\n",
            "5  2013  103419  ...      107469 2003-05-18\n",
            "6  2013  103432  ...         220 2005-12-24\n",
            "7  2013  103437  ...       70926 2005-07-24\n",
            "8  2013  102976  ...       14828 2006-11-15\n",
            "9  2013  102976  ...       23193 2007-08-10\n",
            "\n",
            "[10 rows x 12 columns]\n"
          ],
          "name": "stdout"
        }
      ]
    },
    {
      "cell_type": "markdown",
      "metadata": {
        "id": "sXHS-ddo9CB3"
      },
      "source": [
        "# 7-\tAñadir una fila con la producción total y las horas de trabajo totales."
      ]
    },
    {
      "cell_type": "markdown",
      "metadata": {
        "id": "DYP9mVof9Je0"
      },
      "source": [
        "Primero creamos la fila a agregar como una lista"
      ]
    },
    {
      "cell_type": "code",
      "metadata": {
        "colab": {
          "base_uri": "https://localhost:8080/"
        },
        "id": "k868Is6SelJe",
        "outputId": "72814159-05ff-4014-842d-665415842b71"
      },
      "source": [
        "lista_total = [np.nan, np.nan,np.nan,np.nan,np.nan,np.nan,np.nan,np.nan,np.nan,df[\"Production\"].sum(), np.nan,df[\"Labor_Hours\"].sum(), np.nan]\n",
        "print(lista_total)"
      ],
      "execution_count": 10,
      "outputs": [
        {
          "output_type": "stream",
          "text": [
            "[nan, nan, nan, nan, nan, nan, nan, nan, nan, 984841779, nan, 177910757, nan]\n"
          ],
          "name": "stdout"
        }
      ]
    },
    {
      "cell_type": "markdown",
      "metadata": {
        "id": "CH0gF3ltgWNX"
      },
      "source": [
        "Ahora anexamos al final de la base el vector creado anteriormente"
      ]
    },
    {
      "cell_type": "code",
      "metadata": {
        "colab": {
          "base_uri": "https://localhost:8080/"
        },
        "id": "rnmlKvRggZe2",
        "outputId": "b06f8276-ac57-4f7e-c86e-eceedc72bd50"
      },
      "source": [
        "df_length = len(df)\n",
        "df.loc[df_length] = lista_total\n",
        "print(df)"
      ],
      "execution_count": null,
      "outputs": [
        {
          "output_type": "stream",
          "text": [
            "        Year         ID  ...  Labor_Hours       date\n",
            "0     2013.0   103381.0  ...      22392.0 2003-06-17\n",
            "1     2013.0   103404.0  ...      28447.0 2005-09-21\n",
            "2     2013.0   100759.0  ...     474784.0 2001-01-13\n",
            "3     2013.0   103246.0  ...      29193.0 2006-01-03\n",
            "4     2013.0   103451.0  ...      46393.0 2007-05-21\n",
            "...      ...        ...  ...          ...        ...\n",
            "1447  2013.0  4407233.0  ...      43684.0 2002-08-17\n",
            "1448  2013.0  1518524.0  ...        622.0 2002-08-16\n",
            "1449  2013.0  1519685.0  ...       1020.0 2005-09-28\n",
            "1450     NaN        NaN  ...  177910757.0        NaT\n",
            "1451     NaN        NaN  ...  177910757.0        NaT\n",
            "\n",
            "[1452 rows x 13 columns]\n"
          ],
          "name": "stdout"
        }
      ]
    },
    {
      "cell_type": "markdown",
      "metadata": {
        "id": "J5FkTNbfiX8I"
      },
      "source": [
        "# 8-\tImportar a un data frame las primeras 10 filas"
      ]
    },
    {
      "cell_type": "code",
      "metadata": {
        "id": "gjlxWBgZgvV7"
      },
      "source": [
        "df_10 = pd.read_excel('base_tarea.xls', nrows=10)\n",
        "print(df_10)"
      ],
      "execution_count": null,
      "outputs": []
    },
    {
      "cell_type": "markdown",
      "metadata": {
        "id": "zdeSKtcKjIau"
      },
      "source": [
        "# 9-\tCrear un subtotal de \"Horas de trabajo\" por ID (lo hacemos sobre la base general)"
      ]
    },
    {
      "cell_type": "code",
      "metadata": {
        "id": "N6c18osEjMEo"
      },
      "source": [
        "subtotal_H = df[[\"ID\",'Labor_Hours']].groupby(by=\"ID\").sum()"
      ],
      "execution_count": 11,
      "outputs": []
    },
    {
      "cell_type": "code",
      "metadata": {
        "id": "ayinO2fnjg3E",
        "colab": {
          "base_uri": "https://localhost:8080/"
        },
        "outputId": "c24c4fd1-8ff2-4636-d8d7-622eb08aafc4"
      },
      "source": [
        "print(subtotal_H)"
      ],
      "execution_count": 12,
      "outputs": [
        {
          "output_type": "stream",
          "text": [
            "         Labor_Hours\n",
            "ID                  \n",
            "100329        144002\n",
            "100347        215295\n",
            "100515          6240\n",
            "100759        474784\n",
            "100851       1001809\n",
            "...              ...\n",
            "4801353      2811138\n",
            "4801429       161270\n",
            "4801645        35687\n",
            "4801646       661265\n",
            "5000030       286079\n",
            "\n",
            "[1321 rows x 1 columns]\n"
          ],
          "name": "stdout"
        }
      ]
    },
    {
      "cell_type": "markdown",
      "metadata": {
        "id": "NTKWw8SWkgr0"
      },
      "source": [
        "# 10-\tMostrar los valores para un ID de MSHA específico (ej. 102976)"
      ]
    },
    {
      "cell_type": "markdown",
      "metadata": {
        "id": "ixdNkHhRfdx_"
      },
      "source": [
        "Lo hacemos para las horas de trabajo acumuladas"
      ]
    },
    {
      "cell_type": "code",
      "metadata": {
        "colab": {
          "base_uri": "https://localhost:8080/"
        },
        "id": "eQ17M_MZkt9h",
        "outputId": "f708d467-011d-4375-ec3a-3890a48f5d61"
      },
      "source": [
        "print(subtotal_H.loc[[1519402]])\n"
      ],
      "execution_count": 13,
      "outputs": [
        {
          "output_type": "stream",
          "text": [
            "         Labor_Hours\n",
            "ID                  \n",
            "1519402         5397\n"
          ],
          "name": "stdout"
        }
      ]
    },
    {
      "cell_type": "markdown",
      "metadata": {
        "id": "9Bd7pIdifnRP"
      },
      "source": [
        "Lo hacemos para todas las variables"
      ]
    },
    {
      "cell_type": "code",
      "metadata": {
        "colab": {
          "base_uri": "https://localhost:8080/",
          "height": 80
        },
        "id": "tYqzG1t0fpW_",
        "outputId": "74fade2c-ab22-49ff-ff9c-dbcae3acfcdd"
      },
      "source": [
        "df.loc[df[\"ID\"] == 1519402]"
      ],
      "execution_count": 8,
      "outputs": [
        {
          "output_type": "execute_result",
          "data": {
            "text/html": [
              "<div>\n",
              "<style scoped>\n",
              "    .dataframe tbody tr th:only-of-type {\n",
              "        vertical-align: middle;\n",
              "    }\n",
              "\n",
              "    .dataframe tbody tr th {\n",
              "        vertical-align: top;\n",
              "    }\n",
              "\n",
              "    .dataframe thead th {\n",
              "        text-align: right;\n",
              "    }\n",
              "</style>\n",
              "<table border=\"1\" class=\"dataframe\">\n",
              "  <thead>\n",
              "    <tr style=\"text-align: right;\">\n",
              "      <th></th>\n",
              "      <th>Year</th>\n",
              "      <th>ID</th>\n",
              "      <th>Name</th>\n",
              "      <th>State</th>\n",
              "      <th>County</th>\n",
              "      <th>Status</th>\n",
              "      <th>Type</th>\n",
              "      <th>Company Type</th>\n",
              "      <th>Production</th>\n",
              "      <th>Average Employees</th>\n",
              "      <th>Labor_Hours</th>\n",
              "      <th>date</th>\n",
              "    </tr>\n",
              "  </thead>\n",
              "  <tbody>\n",
              "    <tr>\n",
              "      <th>1430</th>\n",
              "      <td>2013</td>\n",
              "      <td>1519402</td>\n",
              "      <td>Wayland Refuse Pile</td>\n",
              "      <td>Refuse Recovery</td>\n",
              "      <td>Floyd</td>\n",
              "      <td>Active</td>\n",
              "      <td>Refuse</td>\n",
              "      <td>Indepedent Producer Operator</td>\n",
              "      <td>20853</td>\n",
              "      <td>5</td>\n",
              "      <td>5397</td>\n",
              "      <td>2005-09-28</td>\n",
              "    </tr>\n",
              "  </tbody>\n",
              "</table>\n",
              "</div>"
            ],
            "text/plain": [
              "      Year       ID  ... Labor_Hours       date\n",
              "1430  2013  1519402  ...        5397 2005-09-28\n",
              "\n",
              "[1 rows x 12 columns]"
            ]
          },
          "metadata": {
            "tags": []
          },
          "execution_count": 8
        }
      ]
    },
    {
      "cell_type": "markdown",
      "metadata": {
        "id": "oKJvTfWOnl4Z"
      },
      "source": [
        "# 11-\tMostrar aquellas observaciones en las que \"Horas de trabajo\" > 25000"
      ]
    },
    {
      "cell_type": "code",
      "metadata": {
        "colab": {
          "base_uri": "https://localhost:8080/"
        },
        "id": "R_7BzNJ7nvyM",
        "outputId": "d9d3ca64-4d57-4df9-9e1f-24fd78cf6cab"
      },
      "source": [
        "mayor_2500 = subtotal_H[subtotal_H[\"Labor_Hours\"] > 25000]\n",
        "mayor_2500.min()"
      ],
      "execution_count": null,
      "outputs": [
        {
          "output_type": "execute_result",
          "data": {
            "text/plain": [
              "Labor_Hours    25164.0\n",
              "dtype: float64"
            ]
          },
          "metadata": {
            "tags": []
          },
          "execution_count": 105
        }
      ]
    },
    {
      "cell_type": "markdown",
      "metadata": {
        "id": "z-lCqK7MoSsU"
      },
      "source": [
        "# 12-\tEncuentre todos los registros que incluyan dos identificaciones específicas de MSHA. (lo hacemos sobre la base original)"
      ]
    },
    {
      "cell_type": "code",
      "metadata": {
        "id": "XjmO_5waoSJj",
        "colab": {
          "base_uri": "https://localhost:8080/",
          "height": 258
        },
        "outputId": "26762a1f-61ac-4f76-c562-7376c5317d8b"
      },
      "source": [
        "df.loc[(df[\"ID\"] == 102901) | (df[\"ID\"] == 102976)]"
      ],
      "execution_count": 14,
      "outputs": [
        {
          "output_type": "execute_result",
          "data": {
            "text/html": [
              "<div>\n",
              "<style scoped>\n",
              "    .dataframe tbody tr th:only-of-type {\n",
              "        vertical-align: middle;\n",
              "    }\n",
              "\n",
              "    .dataframe tbody tr th {\n",
              "        vertical-align: top;\n",
              "    }\n",
              "\n",
              "    .dataframe thead th {\n",
              "        text-align: right;\n",
              "    }\n",
              "</style>\n",
              "<table border=\"1\" class=\"dataframe\">\n",
              "  <thead>\n",
              "    <tr style=\"text-align: right;\">\n",
              "      <th></th>\n",
              "      <th>Year</th>\n",
              "      <th>ID</th>\n",
              "      <th>Name</th>\n",
              "      <th>State</th>\n",
              "      <th>columna_nueva</th>\n",
              "      <th>County</th>\n",
              "      <th>Status</th>\n",
              "      <th>Type</th>\n",
              "      <th>Company Type</th>\n",
              "      <th>Production</th>\n",
              "      <th>Average Employees</th>\n",
              "      <th>Labor_Hours</th>\n",
              "      <th>date</th>\n",
              "    </tr>\n",
              "  </thead>\n",
              "  <tbody>\n",
              "    <tr>\n",
              "      <th>8</th>\n",
              "      <td>2013</td>\n",
              "      <td>102901</td>\n",
              "      <td>Shoal Creek Mine</td>\n",
              "      <td>Alabama</td>\n",
              "      <td>NaN</td>\n",
              "      <td>Jefferson</td>\n",
              "      <td>Active</td>\n",
              "      <td>Surface</td>\n",
              "      <td>Indepedent Producer Operator</td>\n",
              "      <td>0</td>\n",
              "      <td>5</td>\n",
              "      <td>12396</td>\n",
              "      <td>2002-08-17</td>\n",
              "    </tr>\n",
              "    <tr>\n",
              "      <th>9</th>\n",
              "      <td>2013</td>\n",
              "      <td>102901</td>\n",
              "      <td>Shoal Creek Mine</td>\n",
              "      <td>Alabama</td>\n",
              "      <td>NaN</td>\n",
              "      <td>Jefferson</td>\n",
              "      <td>Active</td>\n",
              "      <td>Underground</td>\n",
              "      <td>Indepedent Producer Operator</td>\n",
              "      <td>1453024</td>\n",
              "      <td>571</td>\n",
              "      <td>1237415</td>\n",
              "      <td>2002-08-16</td>\n",
              "    </tr>\n",
              "    <tr>\n",
              "      <th>18</th>\n",
              "      <td>2013</td>\n",
              "      <td>102976</td>\n",
              "      <td>Piney Woods Preparation Plant</td>\n",
              "      <td>Alabama</td>\n",
              "      <td>NaN</td>\n",
              "      <td>Shelby</td>\n",
              "      <td>Active</td>\n",
              "      <td>Surface</td>\n",
              "      <td>Indepedent Producer Operator</td>\n",
              "      <td>0</td>\n",
              "      <td>5</td>\n",
              "      <td>14828</td>\n",
              "      <td>2006-11-15</td>\n",
              "    </tr>\n",
              "    <tr>\n",
              "      <th>19</th>\n",
              "      <td>2013</td>\n",
              "      <td>102976</td>\n",
              "      <td>Piney Woods Preparation Plant</td>\n",
              "      <td>Alabama</td>\n",
              "      <td>NaN</td>\n",
              "      <td>Shelby</td>\n",
              "      <td>Active</td>\n",
              "      <td>Underground</td>\n",
              "      <td>Indepedent Producer Operator</td>\n",
              "      <td>0</td>\n",
              "      <td>9</td>\n",
              "      <td>23193</td>\n",
              "      <td>2007-08-10</td>\n",
              "    </tr>\n",
              "  </tbody>\n",
              "</table>\n",
              "</div>"
            ],
            "text/plain": [
              "    Year      ID  ... Labor_Hours       date\n",
              "8   2013  102901  ...       12396 2002-08-17\n",
              "9   2013  102901  ...     1237415 2002-08-16\n",
              "18  2013  102976  ...       14828 2006-11-15\n",
              "19  2013  102976  ...       23193 2007-08-10\n",
              "\n",
              "[4 rows x 13 columns]"
            ]
          },
          "metadata": {
            "tags": []
          },
          "execution_count": 14
        }
      ]
    },
    {
      "cell_type": "markdown",
      "metadata": {
        "id": "GtbpSrtGrwpS"
      },
      "source": [
        "# 13-\tOrdenar los registros por la columna “Horas de trabajo” (lo hacemos sobre la base original, de menor a mayor)"
      ]
    },
    {
      "cell_type": "code",
      "metadata": {
        "id": "JhqxfI-xr5-l",
        "colab": {
          "base_uri": "https://localhost:8080/",
          "height": 725
        },
        "outputId": "d57eab7e-b38a-4829-96c9-08794bda33c6"
      },
      "source": [
        "df.sort_values(by=\"Labor_Hours\")"
      ],
      "execution_count": 15,
      "outputs": [
        {
          "output_type": "execute_result",
          "data": {
            "text/html": [
              "<div>\n",
              "<style scoped>\n",
              "    .dataframe tbody tr th:only-of-type {\n",
              "        vertical-align: middle;\n",
              "    }\n",
              "\n",
              "    .dataframe tbody tr th {\n",
              "        vertical-align: top;\n",
              "    }\n",
              "\n",
              "    .dataframe thead th {\n",
              "        text-align: right;\n",
              "    }\n",
              "</style>\n",
              "<table border=\"1\" class=\"dataframe\">\n",
              "  <thead>\n",
              "    <tr style=\"text-align: right;\">\n",
              "      <th></th>\n",
              "      <th>Year</th>\n",
              "      <th>ID</th>\n",
              "      <th>Name</th>\n",
              "      <th>State</th>\n",
              "      <th>columna_nueva</th>\n",
              "      <th>County</th>\n",
              "      <th>Status</th>\n",
              "      <th>Type</th>\n",
              "      <th>Company Type</th>\n",
              "      <th>Production</th>\n",
              "      <th>Average Employees</th>\n",
              "      <th>Labor_Hours</th>\n",
              "      <th>date</th>\n",
              "    </tr>\n",
              "  </thead>\n",
              "  <tbody>\n",
              "    <tr>\n",
              "      <th>837</th>\n",
              "      <td>2013</td>\n",
              "      <td>3608140</td>\n",
              "      <td>Bell Corp</td>\n",
              "      <td>Pennsylvania (Anthracite)</td>\n",
              "      <td>NaN</td>\n",
              "      <td>Schuylkill</td>\n",
              "      <td>Temporarily closed</td>\n",
              "      <td>Surface</td>\n",
              "      <td>Indepedent Producer Operator</td>\n",
              "      <td>23</td>\n",
              "      <td>2</td>\n",
              "      <td>35</td>\n",
              "      <td>2005-09-21</td>\n",
              "    </tr>\n",
              "    <tr>\n",
              "      <th>213</th>\n",
              "      <td>2013</td>\n",
              "      <td>1519619</td>\n",
              "      <td>No. 1 Auger</td>\n",
              "      <td>Kentucky (East)</td>\n",
              "      <td>NaN</td>\n",
              "      <td>Floyd</td>\n",
              "      <td>Temporarily closed</td>\n",
              "      <td>Surface</td>\n",
              "      <td>Indepedent Producer Operator</td>\n",
              "      <td>700</td>\n",
              "      <td>3</td>\n",
              "      <td>40</td>\n",
              "      <td>2005-07-24</td>\n",
              "    </tr>\n",
              "    <tr>\n",
              "      <th>1437</th>\n",
              "      <td>2013</td>\n",
              "      <td>3610027</td>\n",
              "      <td>Paradise Bank</td>\n",
              "      <td>Refuse Recovery</td>\n",
              "      <td>NaN</td>\n",
              "      <td>Northumberland</td>\n",
              "      <td>New, under construction</td>\n",
              "      <td>Refuse</td>\n",
              "      <td>Indepedent Producer Operator</td>\n",
              "      <td>52</td>\n",
              "      <td>1</td>\n",
              "      <td>53</td>\n",
              "      <td>2005-07-24</td>\n",
              "    </tr>\n",
              "    <tr>\n",
              "      <th>740</th>\n",
              "      <td>2013</td>\n",
              "      <td>3609189</td>\n",
              "      <td>Ser #3163</td>\n",
              "      <td>Pennsylvania (Bituminous)</td>\n",
              "      <td>NaN</td>\n",
              "      <td>Indiana</td>\n",
              "      <td>Active</td>\n",
              "      <td>Surface</td>\n",
              "      <td>Indepedent Producer Operator</td>\n",
              "      <td>574</td>\n",
              "      <td>1</td>\n",
              "      <td>54</td>\n",
              "      <td>2001-01-13</td>\n",
              "    </tr>\n",
              "    <tr>\n",
              "      <th>1433</th>\n",
              "      <td>2013</td>\n",
              "      <td>1519554</td>\n",
              "      <td>No 1</td>\n",
              "      <td>Refuse Recovery</td>\n",
              "      <td>NaN</td>\n",
              "      <td>Harlan</td>\n",
              "      <td>Permanently abandoned</td>\n",
              "      <td>Refuse</td>\n",
              "      <td>Indepedent Producer Operator</td>\n",
              "      <td>8586</td>\n",
              "      <td>1</td>\n",
              "      <td>133</td>\n",
              "      <td>2007-12-07</td>\n",
              "    </tr>\n",
              "    <tr>\n",
              "      <th>...</th>\n",
              "      <td>...</td>\n",
              "      <td>...</td>\n",
              "      <td>...</td>\n",
              "      <td>...</td>\n",
              "      <td>...</td>\n",
              "      <td>...</td>\n",
              "      <td>...</td>\n",
              "      <td>...</td>\n",
              "      <td>...</td>\n",
              "      <td>...</td>\n",
              "      <td>...</td>\n",
              "      <td>...</td>\n",
              "      <td>...</td>\n",
              "    </tr>\n",
              "    <tr>\n",
              "      <th>1271</th>\n",
              "      <td>2013</td>\n",
              "      <td>4601437</td>\n",
              "      <td>Mcelroy Mine</td>\n",
              "      <td>West Virginia (Northern)</td>\n",
              "      <td>NaN</td>\n",
              "      <td>Marshall</td>\n",
              "      <td>Active</td>\n",
              "      <td>Underground</td>\n",
              "      <td>Operating Subsidiary</td>\n",
              "      <td>9403070</td>\n",
              "      <td>957</td>\n",
              "      <td>2194378</td>\n",
              "      <td>2007-02-07</td>\n",
              "    </tr>\n",
              "    <tr>\n",
              "      <th>25</th>\n",
              "      <td>2013</td>\n",
              "      <td>101401</td>\n",
              "      <td>No 7 Mine</td>\n",
              "      <td>Alabama</td>\n",
              "      <td>NaN</td>\n",
              "      <td>Tuscaloosa</td>\n",
              "      <td>Active</td>\n",
              "      <td>Underground</td>\n",
              "      <td>Operating Subsidiary</td>\n",
              "      <td>5405412</td>\n",
              "      <td>989</td>\n",
              "      <td>2464719</td>\n",
              "      <td>2005-06-25</td>\n",
              "    </tr>\n",
              "    <tr>\n",
              "      <th>1413</th>\n",
              "      <td>2013</td>\n",
              "      <td>4801353</td>\n",
              "      <td>North Antelope Rochelle Mine</td>\n",
              "      <td>Wyoming</td>\n",
              "      <td>NaN</td>\n",
              "      <td>Campbell</td>\n",
              "      <td>Active</td>\n",
              "      <td>Surface</td>\n",
              "      <td>Operating Subsidiary</td>\n",
              "      <td>111005549</td>\n",
              "      <td>1349</td>\n",
              "      <td>2811138</td>\n",
              "      <td>2006-03-07</td>\n",
              "    </tr>\n",
              "    <tr>\n",
              "      <th>711</th>\n",
              "      <td>2013</td>\n",
              "      <td>3607230</td>\n",
              "      <td>Bailey Mine</td>\n",
              "      <td>Pennsylvania (Bituminous)</td>\n",
              "      <td>NaN</td>\n",
              "      <td>Greene</td>\n",
              "      <td>Active</td>\n",
              "      <td>Underground</td>\n",
              "      <td>Operating Subsidiary</td>\n",
              "      <td>11321481</td>\n",
              "      <td>1222</td>\n",
              "      <td>3015772</td>\n",
              "      <td>2005-09-30</td>\n",
              "    </tr>\n",
              "    <tr>\n",
              "      <th>1406</th>\n",
              "      <td>2013</td>\n",
              "      <td>4800977</td>\n",
              "      <td>Black Thunder</td>\n",
              "      <td>Wyoming</td>\n",
              "      <td>NaN</td>\n",
              "      <td>Campbell</td>\n",
              "      <td>Active</td>\n",
              "      <td>Surface</td>\n",
              "      <td>Operating Subsidiary</td>\n",
              "      <td>100687876</td>\n",
              "      <td>1585</td>\n",
              "      <td>3206295</td>\n",
              "      <td>2005-06-25</td>\n",
              "    </tr>\n",
              "  </tbody>\n",
              "</table>\n",
              "<p>1450 rows × 13 columns</p>\n",
              "</div>"
            ],
            "text/plain": [
              "      Year       ID  ... Labor_Hours       date\n",
              "837   2013  3608140  ...          35 2005-09-21\n",
              "213   2013  1519619  ...          40 2005-07-24\n",
              "1437  2013  3610027  ...          53 2005-07-24\n",
              "740   2013  3609189  ...          54 2001-01-13\n",
              "1433  2013  1519554  ...         133 2007-12-07\n",
              "...    ...      ...  ...         ...        ...\n",
              "1271  2013  4601437  ...     2194378 2007-02-07\n",
              "25    2013   101401  ...     2464719 2005-06-25\n",
              "1413  2013  4801353  ...     2811138 2006-03-07\n",
              "711   2013  3607230  ...     3015772 2005-09-30\n",
              "1406  2013  4800977  ...     3206295 2005-06-25\n",
              "\n",
              "[1450 rows x 13 columns]"
            ]
          },
          "metadata": {
            "tags": []
          },
          "execution_count": 15
        }
      ]
    },
    {
      "cell_type": "markdown",
      "metadata": {
        "id": "wq2cHIaEsRJu"
      },
      "source": [
        "# 14-\tHaga una lista en donde date esté entre febrero 2005 y noviembre 2006 (lo hacemos sobre la base original)"
      ]
    },
    {
      "cell_type": "code",
      "metadata": {
        "id": "oigtQX3UsYYz",
        "colab": {
          "base_uri": "https://localhost:8080/",
          "height": 708
        },
        "outputId": "83f20277-8381-4398-88fb-a1562c950d28"
      },
      "source": [
        "df_fechas = df[(df['date'] >= '2005-02-01') & (df['date'] < '2006-11-01')]\n",
        "df_fechas.sort_values(by=\"date\")"
      ],
      "execution_count": 16,
      "outputs": [
        {
          "output_type": "execute_result",
          "data": {
            "text/html": [
              "<div>\n",
              "<style scoped>\n",
              "    .dataframe tbody tr th:only-of-type {\n",
              "        vertical-align: middle;\n",
              "    }\n",
              "\n",
              "    .dataframe tbody tr th {\n",
              "        vertical-align: top;\n",
              "    }\n",
              "\n",
              "    .dataframe thead th {\n",
              "        text-align: right;\n",
              "    }\n",
              "</style>\n",
              "<table border=\"1\" class=\"dataframe\">\n",
              "  <thead>\n",
              "    <tr style=\"text-align: right;\">\n",
              "      <th></th>\n",
              "      <th>Year</th>\n",
              "      <th>ID</th>\n",
              "      <th>Name</th>\n",
              "      <th>State</th>\n",
              "      <th>columna_nueva</th>\n",
              "      <th>County</th>\n",
              "      <th>Status</th>\n",
              "      <th>Type</th>\n",
              "      <th>Company Type</th>\n",
              "      <th>Production</th>\n",
              "      <th>Average Employees</th>\n",
              "      <th>Labor_Hours</th>\n",
              "      <th>date</th>\n",
              "    </tr>\n",
              "  </thead>\n",
              "  <tbody>\n",
              "    <tr>\n",
              "      <th>724</th>\n",
              "      <td>2013</td>\n",
              "      <td>3608222</td>\n",
              "      <td>Homer City Generating Station</td>\n",
              "      <td>Pennsylvania (Bituminous)</td>\n",
              "      <td>NaN</td>\n",
              "      <td>Indiana</td>\n",
              "      <td>Active</td>\n",
              "      <td>Surface</td>\n",
              "      <td>Indepedent Producer Operator</td>\n",
              "      <td>0</td>\n",
              "      <td>1</td>\n",
              "      <td>3906</td>\n",
              "      <td>2005-06-25</td>\n",
              "    </tr>\n",
              "    <tr>\n",
              "      <th>259</th>\n",
              "      <td>2013</td>\n",
              "      <td>1517232</td>\n",
              "      <td>Richland No 9</td>\n",
              "      <td>Kentucky (West)</td>\n",
              "      <td>NaN</td>\n",
              "      <td>Hopkins</td>\n",
              "      <td>Active</td>\n",
              "      <td>Underground</td>\n",
              "      <td>Operating Subsidiary</td>\n",
              "      <td>690911</td>\n",
              "      <td>71</td>\n",
              "      <td>177731</td>\n",
              "      <td>2005-06-25</td>\n",
              "    </tr>\n",
              "    <tr>\n",
              "      <th>860</th>\n",
              "      <td>2013</td>\n",
              "      <td>3609259</td>\n",
              "      <td>#2 Strip Mine</td>\n",
              "      <td>Pennsylvania (Anthracite)</td>\n",
              "      <td>NaN</td>\n",
              "      <td>Schuylkill</td>\n",
              "      <td>Temporarily closed</td>\n",
              "      <td>Surface</td>\n",
              "      <td>Indepedent Producer Operator</td>\n",
              "      <td>1557</td>\n",
              "      <td>1</td>\n",
              "      <td>850</td>\n",
              "      <td>2005-06-25</td>\n",
              "    </tr>\n",
              "    <tr>\n",
              "      <th>880</th>\n",
              "      <td>2013</td>\n",
              "      <td>3608083</td>\n",
              "      <td>Joepa</td>\n",
              "      <td>Pennsylvania (Bituminous)</td>\n",
              "      <td>NaN</td>\n",
              "      <td>Somerset</td>\n",
              "      <td>Active</td>\n",
              "      <td>Surface</td>\n",
              "      <td>Indepedent Producer Operator</td>\n",
              "      <td>110395</td>\n",
              "      <td>19</td>\n",
              "      <td>42861</td>\n",
              "      <td>2005-06-25</td>\n",
              "    </tr>\n",
              "    <tr>\n",
              "      <th>240</th>\n",
              "      <td>2013</td>\n",
              "      <td>1519170</td>\n",
              "      <td>Ky No. 5</td>\n",
              "      <td>Kentucky (East)</td>\n",
              "      <td>NaN</td>\n",
              "      <td>Harlan</td>\n",
              "      <td>Active, men working, not producing</td>\n",
              "      <td>Surface</td>\n",
              "      <td>Indepedent Producer Operator</td>\n",
              "      <td>67113</td>\n",
              "      <td>19</td>\n",
              "      <td>41083</td>\n",
              "      <td>2005-06-25</td>\n",
              "    </tr>\n",
              "    <tr>\n",
              "      <th>...</th>\n",
              "      <td>...</td>\n",
              "      <td>...</td>\n",
              "      <td>...</td>\n",
              "      <td>...</td>\n",
              "      <td>...</td>\n",
              "      <td>...</td>\n",
              "      <td>...</td>\n",
              "      <td>...</td>\n",
              "      <td>...</td>\n",
              "      <td>...</td>\n",
              "      <td>...</td>\n",
              "      <td>...</td>\n",
              "      <td>...</td>\n",
              "    </tr>\n",
              "    <tr>\n",
              "      <th>966</th>\n",
              "      <td>2013</td>\n",
              "      <td>4404856</td>\n",
              "      <td>Buchanan Mine #1</td>\n",
              "      <td>Virginia</td>\n",
              "      <td>NaN</td>\n",
              "      <td>Buchanan</td>\n",
              "      <td>Active</td>\n",
              "      <td>Underground</td>\n",
              "      <td>Operating Subsidiary</td>\n",
              "      <td>4783655</td>\n",
              "      <td>596</td>\n",
              "      <td>1420129</td>\n",
              "      <td>2006-03-07</td>\n",
              "    </tr>\n",
              "    <tr>\n",
              "      <th>208</th>\n",
              "      <td>2013</td>\n",
              "      <td>1519242</td>\n",
              "      <td>Redhawk #1</td>\n",
              "      <td>Kentucky (East)</td>\n",
              "      <td>NaN</td>\n",
              "      <td>Floyd</td>\n",
              "      <td>Active</td>\n",
              "      <td>Underground</td>\n",
              "      <td>Indepedent Producer Operator</td>\n",
              "      <td>558203</td>\n",
              "      <td>104</td>\n",
              "      <td>221627</td>\n",
              "      <td>2006-03-07</td>\n",
              "    </tr>\n",
              "    <tr>\n",
              "      <th>539</th>\n",
              "      <td>2013</td>\n",
              "      <td>2901879</td>\n",
              "      <td>Lee Ranch Coal Mine</td>\n",
              "      <td>New Mexico</td>\n",
              "      <td>NaN</td>\n",
              "      <td>Mckinley</td>\n",
              "      <td>Active</td>\n",
              "      <td>Surface</td>\n",
              "      <td>Operating Subsidiary</td>\n",
              "      <td>19395</td>\n",
              "      <td>26</td>\n",
              "      <td>56640</td>\n",
              "      <td>2006-03-07</td>\n",
              "    </tr>\n",
              "    <tr>\n",
              "      <th>228</th>\n",
              "      <td>2013</td>\n",
              "      <td>1517971</td>\n",
              "      <td>Days Creek Stockpile</td>\n",
              "      <td>Kentucky (East)</td>\n",
              "      <td>NaN</td>\n",
              "      <td>Harlan</td>\n",
              "      <td>Active</td>\n",
              "      <td>Underground</td>\n",
              "      <td>Operating Subsidiary</td>\n",
              "      <td>0</td>\n",
              "      <td>4</td>\n",
              "      <td>10034</td>\n",
              "      <td>2006-03-07</td>\n",
              "    </tr>\n",
              "    <tr>\n",
              "      <th>617</th>\n",
              "      <td>2013</td>\n",
              "      <td>3608725</td>\n",
              "      <td>Beaver Valley</td>\n",
              "      <td>Pennsylvania (Bituminous)</td>\n",
              "      <td>NaN</td>\n",
              "      <td>Beaver</td>\n",
              "      <td>Active</td>\n",
              "      <td>Underground</td>\n",
              "      <td>Indepedent Producer Operator</td>\n",
              "      <td>206524</td>\n",
              "      <td>20</td>\n",
              "      <td>47880</td>\n",
              "      <td>2006-03-07</td>\n",
              "    </tr>\n",
              "  </tbody>\n",
              "</table>\n",
              "<p>671 rows × 13 columns</p>\n",
              "</div>"
            ],
            "text/plain": [
              "     Year       ID  ... Labor_Hours       date\n",
              "724  2013  3608222  ...        3906 2005-06-25\n",
              "259  2013  1517232  ...      177731 2005-06-25\n",
              "860  2013  3609259  ...         850 2005-06-25\n",
              "880  2013  3608083  ...       42861 2005-06-25\n",
              "240  2013  1519170  ...       41083 2005-06-25\n",
              "..    ...      ...  ...         ...        ...\n",
              "966  2013  4404856  ...     1420129 2006-03-07\n",
              "208  2013  1519242  ...      221627 2006-03-07\n",
              "539  2013  2901879  ...       56640 2006-03-07\n",
              "228  2013  1517971  ...       10034 2006-03-07\n",
              "617  2013  3608725  ...       47880 2006-03-07\n",
              "\n",
              "[671 rows x 13 columns]"
            ]
          },
          "metadata": {
            "tags": []
          },
          "execution_count": 16
        }
      ]
    },
    {
      "cell_type": "markdown",
      "metadata": {
        "id": "QHI49kGPukQ_"
      },
      "source": [
        "# 15-\tMostrar la lista de aquellos cuyos date sea 2005 "
      ]
    },
    {
      "cell_type": "code",
      "metadata": {
        "id": "A-fQJayMulUf",
        "colab": {
          "base_uri": "https://localhost:8080/",
          "height": 759
        },
        "outputId": "fb545f91-614a-43b0-b629-19b35560fa5a"
      },
      "source": [
        "df_2005 = df[df['date'].dt.year == 2005]\n",
        "df_2005"
      ],
      "execution_count": 17,
      "outputs": [
        {
          "output_type": "execute_result",
          "data": {
            "text/html": [
              "<div>\n",
              "<style scoped>\n",
              "    .dataframe tbody tr th:only-of-type {\n",
              "        vertical-align: middle;\n",
              "    }\n",
              "\n",
              "    .dataframe tbody tr th {\n",
              "        vertical-align: top;\n",
              "    }\n",
              "\n",
              "    .dataframe thead th {\n",
              "        text-align: right;\n",
              "    }\n",
              "</style>\n",
              "<table border=\"1\" class=\"dataframe\">\n",
              "  <thead>\n",
              "    <tr style=\"text-align: right;\">\n",
              "      <th></th>\n",
              "      <th>Year</th>\n",
              "      <th>ID</th>\n",
              "      <th>Name</th>\n",
              "      <th>State</th>\n",
              "      <th>columna_nueva</th>\n",
              "      <th>County</th>\n",
              "      <th>Status</th>\n",
              "      <th>Type</th>\n",
              "      <th>Company Type</th>\n",
              "      <th>Production</th>\n",
              "      <th>Average Employees</th>\n",
              "      <th>Labor_Hours</th>\n",
              "      <th>date</th>\n",
              "    </tr>\n",
              "  </thead>\n",
              "  <tbody>\n",
              "    <tr>\n",
              "      <th>1</th>\n",
              "      <td>2013</td>\n",
              "      <td>103404</td>\n",
              "      <td>Reid School Mine</td>\n",
              "      <td>Alabama</td>\n",
              "      <td>NaN</td>\n",
              "      <td>Blount</td>\n",
              "      <td>Permanently abandoned</td>\n",
              "      <td>Surface</td>\n",
              "      <td>Indepedent Producer Operator</td>\n",
              "      <td>28807</td>\n",
              "      <td>18</td>\n",
              "      <td>28447</td>\n",
              "      <td>2005-09-21</td>\n",
              "    </tr>\n",
              "    <tr>\n",
              "      <th>5</th>\n",
              "      <td>2013</td>\n",
              "      <td>103433</td>\n",
              "      <td>Crane Central Mine</td>\n",
              "      <td>Alabama</td>\n",
              "      <td>NaN</td>\n",
              "      <td>Jackson</td>\n",
              "      <td>Temporarily closed</td>\n",
              "      <td>Surface</td>\n",
              "      <td>Indepedent Producer Operator</td>\n",
              "      <td>69339</td>\n",
              "      <td>27</td>\n",
              "      <td>47195</td>\n",
              "      <td>2005-06-25</td>\n",
              "    </tr>\n",
              "    <tr>\n",
              "      <th>10</th>\n",
              "      <td>2013</td>\n",
              "      <td>103180</td>\n",
              "      <td>Sloan Mountain Mine</td>\n",
              "      <td>Alabama</td>\n",
              "      <td>NaN</td>\n",
              "      <td>Jefferson</td>\n",
              "      <td>Active</td>\n",
              "      <td>Surface</td>\n",
              "      <td>Indepedent Producer Operator</td>\n",
              "      <td>327780</td>\n",
              "      <td>84</td>\n",
              "      <td>196963</td>\n",
              "      <td>2005-09-28</td>\n",
              "    </tr>\n",
              "    <tr>\n",
              "      <th>11</th>\n",
              "      <td>2013</td>\n",
              "      <td>103182</td>\n",
              "      <td>Fishtrap</td>\n",
              "      <td>Alabama</td>\n",
              "      <td>NaN</td>\n",
              "      <td>Jefferson</td>\n",
              "      <td>Active</td>\n",
              "      <td>Surface</td>\n",
              "      <td>Operating Subsidiary</td>\n",
              "      <td>175058</td>\n",
              "      <td>30</td>\n",
              "      <td>87314</td>\n",
              "      <td>2005-09-30</td>\n",
              "    </tr>\n",
              "    <tr>\n",
              "      <th>16</th>\n",
              "      <td>2013</td>\n",
              "      <td>103432</td>\n",
              "      <td>Skelton Creek</td>\n",
              "      <td>Alabama</td>\n",
              "      <td>NaN</td>\n",
              "      <td>Jefferson</td>\n",
              "      <td>Temporarily closed</td>\n",
              "      <td>Surface</td>\n",
              "      <td>Indepedent Producer Operator</td>\n",
              "      <td>8252</td>\n",
              "      <td>3</td>\n",
              "      <td>220</td>\n",
              "      <td>2005-12-24</td>\n",
              "    </tr>\n",
              "    <tr>\n",
              "      <th>...</th>\n",
              "      <td>...</td>\n",
              "      <td>...</td>\n",
              "      <td>...</td>\n",
              "      <td>...</td>\n",
              "      <td>...</td>\n",
              "      <td>...</td>\n",
              "      <td>...</td>\n",
              "      <td>...</td>\n",
              "      <td>...</td>\n",
              "      <td>...</td>\n",
              "      <td>...</td>\n",
              "      <td>...</td>\n",
              "      <td>...</td>\n",
              "    </tr>\n",
              "    <tr>\n",
              "      <th>1436</th>\n",
              "      <td>2013</td>\n",
              "      <td>3609843</td>\n",
              "      <td>Atlas Anthracite Coal Corporat</td>\n",
              "      <td>Refuse Recovery</td>\n",
              "      <td>NaN</td>\n",
              "      <td>Northumberland</td>\n",
              "      <td>Active</td>\n",
              "      <td>Refuse</td>\n",
              "      <td>Indepedent Producer Operator</td>\n",
              "      <td>28055</td>\n",
              "      <td>8</td>\n",
              "      <td>13036</td>\n",
              "      <td>2005-12-24</td>\n",
              "    </tr>\n",
              "    <tr>\n",
              "      <th>1437</th>\n",
              "      <td>2013</td>\n",
              "      <td>3610027</td>\n",
              "      <td>Paradise Bank</td>\n",
              "      <td>Refuse Recovery</td>\n",
              "      <td>NaN</td>\n",
              "      <td>Northumberland</td>\n",
              "      <td>New, under construction</td>\n",
              "      <td>Refuse</td>\n",
              "      <td>Indepedent Producer Operator</td>\n",
              "      <td>52</td>\n",
              "      <td>1</td>\n",
              "      <td>53</td>\n",
              "      <td>2005-07-24</td>\n",
              "    </tr>\n",
              "    <tr>\n",
              "      <th>1440</th>\n",
              "      <td>2013</td>\n",
              "      <td>3609405</td>\n",
              "      <td>Phoenix</td>\n",
              "      <td>Refuse Recovery</td>\n",
              "      <td>NaN</td>\n",
              "      <td>Washington</td>\n",
              "      <td>Active</td>\n",
              "      <td>Refuse</td>\n",
              "      <td>Indepedent Producer Operator</td>\n",
              "      <td>4473</td>\n",
              "      <td>5</td>\n",
              "      <td>5670</td>\n",
              "      <td>2005-09-21</td>\n",
              "    </tr>\n",
              "    <tr>\n",
              "      <th>1444</th>\n",
              "      <td>2013</td>\n",
              "      <td>1519713</td>\n",
              "      <td># 1 Refuse</td>\n",
              "      <td>Refuse Recovery</td>\n",
              "      <td>NaN</td>\n",
              "      <td>Letcher</td>\n",
              "      <td>Active, men working, not producing</td>\n",
              "      <td>Refuse</td>\n",
              "      <td>Indepedent Producer Operator</td>\n",
              "      <td>1879</td>\n",
              "      <td>2</td>\n",
              "      <td>200</td>\n",
              "      <td>2005-06-25</td>\n",
              "    </tr>\n",
              "    <tr>\n",
              "      <th>1449</th>\n",
              "      <td>2013</td>\n",
              "      <td>1519685</td>\n",
              "      <td>Fedscreek Refuse Pile</td>\n",
              "      <td>Refuse Recovery</td>\n",
              "      <td>NaN</td>\n",
              "      <td>Pike</td>\n",
              "      <td>Active, men working, not producing</td>\n",
              "      <td>Refuse</td>\n",
              "      <td>Indepedent Producer Operator</td>\n",
              "      <td>17357</td>\n",
              "      <td>3</td>\n",
              "      <td>1020</td>\n",
              "      <td>2005-09-28</td>\n",
              "    </tr>\n",
              "  </tbody>\n",
              "</table>\n",
              "<p>447 rows × 13 columns</p>\n",
              "</div>"
            ],
            "text/plain": [
              "      Year       ID  ... Labor_Hours       date\n",
              "1     2013   103404  ...       28447 2005-09-21\n",
              "5     2013   103433  ...       47195 2005-06-25\n",
              "10    2013   103180  ...      196963 2005-09-28\n",
              "11    2013   103182  ...       87314 2005-09-30\n",
              "16    2013   103432  ...         220 2005-12-24\n",
              "...    ...      ...  ...         ...        ...\n",
              "1436  2013  3609843  ...       13036 2005-12-24\n",
              "1437  2013  3610027  ...          53 2005-07-24\n",
              "1440  2013  3609405  ...        5670 2005-09-21\n",
              "1444  2013  1519713  ...         200 2005-06-25\n",
              "1449  2013  1519685  ...        1020 2005-09-28\n",
              "\n",
              "[447 rows x 13 columns]"
            ]
          },
          "metadata": {
            "tags": []
          },
          "execution_count": 17
        }
      ]
    },
    {
      "cell_type": "markdown",
      "metadata": {
        "id": "rjH598JPv2xY"
      },
      "source": [
        "# 16-\tOrdenar en base a ID y date columnas dadas "
      ]
    },
    {
      "cell_type": "code",
      "metadata": {
        "id": "kFA_ruSOv8X4",
        "colab": {
          "base_uri": "https://localhost:8080/",
          "height": 708
        },
        "outputId": "10e2af5f-e1dc-4f08-90ed-e84a144923bd"
      },
      "source": [
        "df.sort_values(by=['ID','date'], ascending=[False,True])"
      ],
      "execution_count": 18,
      "outputs": [
        {
          "output_type": "execute_result",
          "data": {
            "text/html": [
              "<div>\n",
              "<style scoped>\n",
              "    .dataframe tbody tr th:only-of-type {\n",
              "        vertical-align: middle;\n",
              "    }\n",
              "\n",
              "    .dataframe tbody tr th {\n",
              "        vertical-align: top;\n",
              "    }\n",
              "\n",
              "    .dataframe thead th {\n",
              "        text-align: right;\n",
              "    }\n",
              "</style>\n",
              "<table border=\"1\" class=\"dataframe\">\n",
              "  <thead>\n",
              "    <tr style=\"text-align: right;\">\n",
              "      <th></th>\n",
              "      <th>Year</th>\n",
              "      <th>ID</th>\n",
              "      <th>Name</th>\n",
              "      <th>State</th>\n",
              "      <th>columna_nueva</th>\n",
              "      <th>County</th>\n",
              "      <th>Status</th>\n",
              "      <th>Type</th>\n",
              "      <th>Company Type</th>\n",
              "      <th>Production</th>\n",
              "      <th>Average Employees</th>\n",
              "      <th>Labor_Hours</th>\n",
              "      <th>date</th>\n",
              "    </tr>\n",
              "  </thead>\n",
              "  <tbody>\n",
              "    <tr>\n",
              "      <th>48</th>\n",
              "      <td>2013</td>\n",
              "      <td>5000030</td>\n",
              "      <td>Usibelli</td>\n",
              "      <td>Alaska</td>\n",
              "      <td>NaN</td>\n",
              "      <td>Fairbanks North Star</td>\n",
              "      <td>Active</td>\n",
              "      <td>Surface</td>\n",
              "      <td>Indepedent Producer Operator</td>\n",
              "      <td>1631584</td>\n",
              "      <td>125</td>\n",
              "      <td>286079</td>\n",
              "      <td>2002-08-17</td>\n",
              "    </tr>\n",
              "    <tr>\n",
              "      <th>1420</th>\n",
              "      <td>2013</td>\n",
              "      <td>4801646</td>\n",
              "      <td>Bridger Underground Coal Mine</td>\n",
              "      <td>Wyoming</td>\n",
              "      <td>NaN</td>\n",
              "      <td>Sweetwater</td>\n",
              "      <td>Active</td>\n",
              "      <td>Underground</td>\n",
              "      <td>Operating Subsidiary</td>\n",
              "      <td>4442616</td>\n",
              "      <td>278</td>\n",
              "      <td>661265</td>\n",
              "      <td>2003-06-17</td>\n",
              "    </tr>\n",
              "    <tr>\n",
              "      <th>61</th>\n",
              "      <td>2013</td>\n",
              "      <td>4801645</td>\n",
              "      <td>Addcar System 18 Hwm Serial No</td>\n",
              "      <td>Colorado</td>\n",
              "      <td>NaN</td>\n",
              "      <td>Rio Blanco</td>\n",
              "      <td>Active</td>\n",
              "      <td>Surface</td>\n",
              "      <td>Indepedent Producer Operator</td>\n",
              "      <td>350060</td>\n",
              "      <td>17</td>\n",
              "      <td>35687</td>\n",
              "      <td>2001-01-13</td>\n",
              "    </tr>\n",
              "    <tr>\n",
              "      <th>1414</th>\n",
              "      <td>2013</td>\n",
              "      <td>4801429</td>\n",
              "      <td>Dry Fork Mine</td>\n",
              "      <td>Wyoming</td>\n",
              "      <td>NaN</td>\n",
              "      <td>Campbell</td>\n",
              "      <td>Active</td>\n",
              "      <td>Surface</td>\n",
              "      <td>Operating Subsidiary</td>\n",
              "      <td>5433936</td>\n",
              "      <td>78</td>\n",
              "      <td>161270</td>\n",
              "      <td>2007-12-07</td>\n",
              "    </tr>\n",
              "    <tr>\n",
              "      <th>1413</th>\n",
              "      <td>2013</td>\n",
              "      <td>4801353</td>\n",
              "      <td>North Antelope Rochelle Mine</td>\n",
              "      <td>Wyoming</td>\n",
              "      <td>NaN</td>\n",
              "      <td>Campbell</td>\n",
              "      <td>Active</td>\n",
              "      <td>Surface</td>\n",
              "      <td>Operating Subsidiary</td>\n",
              "      <td>111005549</td>\n",
              "      <td>1349</td>\n",
              "      <td>2811138</td>\n",
              "      <td>2006-03-07</td>\n",
              "    </tr>\n",
              "    <tr>\n",
              "      <th>...</th>\n",
              "      <td>...</td>\n",
              "      <td>...</td>\n",
              "      <td>...</td>\n",
              "      <td>...</td>\n",
              "      <td>...</td>\n",
              "      <td>...</td>\n",
              "      <td>...</td>\n",
              "      <td>...</td>\n",
              "      <td>...</td>\n",
              "      <td>...</td>\n",
              "      <td>...</td>\n",
              "      <td>...</td>\n",
              "      <td>...</td>\n",
              "    </tr>\n",
              "    <tr>\n",
              "      <th>7</th>\n",
              "      <td>2013</td>\n",
              "      <td>100851</td>\n",
              "      <td>Oak Grove Mine</td>\n",
              "      <td>Alabama</td>\n",
              "      <td>NaN</td>\n",
              "      <td>Jefferson</td>\n",
              "      <td>Active</td>\n",
              "      <td>Underground</td>\n",
              "      <td>Operating Subsidiary</td>\n",
              "      <td>2269014</td>\n",
              "      <td>447</td>\n",
              "      <td>1001809</td>\n",
              "      <td>2007-02-07</td>\n",
              "    </tr>\n",
              "    <tr>\n",
              "      <th>2</th>\n",
              "      <td>2013</td>\n",
              "      <td>100759</td>\n",
              "      <td>North River #1 Underground Min</td>\n",
              "      <td>Alabama</td>\n",
              "      <td>NaN</td>\n",
              "      <td>Fayette</td>\n",
              "      <td>Active, men working, not producing</td>\n",
              "      <td>Underground</td>\n",
              "      <td>Indepedent Producer Operator</td>\n",
              "      <td>1440115</td>\n",
              "      <td>183</td>\n",
              "      <td>474784</td>\n",
              "      <td>2001-01-13</td>\n",
              "    </tr>\n",
              "    <tr>\n",
              "      <th>1441</th>\n",
              "      <td>2013</td>\n",
              "      <td>100515</td>\n",
              "      <td>Mary Lee # 1 Mine</td>\n",
              "      <td>Refuse Recovery</td>\n",
              "      <td>NaN</td>\n",
              "      <td>Walker</td>\n",
              "      <td>Active, men working, not producing</td>\n",
              "      <td>Refuse</td>\n",
              "      <td>Indepedent Producer Operator</td>\n",
              "      <td>8400</td>\n",
              "      <td>4</td>\n",
              "      <td>6240</td>\n",
              "      <td>2001-01-13</td>\n",
              "    </tr>\n",
              "    <tr>\n",
              "      <th>32</th>\n",
              "      <td>2013</td>\n",
              "      <td>100347</td>\n",
              "      <td>Choctaw Mine</td>\n",
              "      <td>Alabama</td>\n",
              "      <td>NaN</td>\n",
              "      <td>Walker</td>\n",
              "      <td>Active</td>\n",
              "      <td>Surface</td>\n",
              "      <td>Indepedent Producer Operator</td>\n",
              "      <td>537429</td>\n",
              "      <td>82</td>\n",
              "      <td>215295</td>\n",
              "      <td>2006-03-07</td>\n",
              "    </tr>\n",
              "    <tr>\n",
              "      <th>6</th>\n",
              "      <td>2013</td>\n",
              "      <td>100329</td>\n",
              "      <td>Concord Mine</td>\n",
              "      <td>Alabama</td>\n",
              "      <td>NaN</td>\n",
              "      <td>Jefferson</td>\n",
              "      <td>Active</td>\n",
              "      <td>Underground</td>\n",
              "      <td>Operating Subsidiary</td>\n",
              "      <td>0</td>\n",
              "      <td>59</td>\n",
              "      <td>144002</td>\n",
              "      <td>2006-02-05</td>\n",
              "    </tr>\n",
              "  </tbody>\n",
              "</table>\n",
              "<p>1450 rows × 13 columns</p>\n",
              "</div>"
            ],
            "text/plain": [
              "      Year       ID  ... Labor_Hours       date\n",
              "48    2013  5000030  ...      286079 2002-08-17\n",
              "1420  2013  4801646  ...      661265 2003-06-17\n",
              "61    2013  4801645  ...       35687 2001-01-13\n",
              "1414  2013  4801429  ...      161270 2007-12-07\n",
              "1413  2013  4801353  ...     2811138 2006-03-07\n",
              "...    ...      ...  ...         ...        ...\n",
              "7     2013   100851  ...     1001809 2007-02-07\n",
              "2     2013   100759  ...      474784 2001-01-13\n",
              "1441  2013   100515  ...        6240 2001-01-13\n",
              "32    2013   100347  ...      215295 2006-03-07\n",
              "6     2013   100329  ...      144002 2006-02-05\n",
              "\n",
              "[1450 rows x 13 columns]"
            ]
          },
          "metadata": {
            "tags": []
          },
          "execution_count": 18
        }
      ]
    },
    {
      "cell_type": "markdown",
      "metadata": {
        "id": "1d7TxrkWww2l"
      },
      "source": [
        "# 17-\tCrear tres hojas de datos (sheet) desde el archivo de Excel y combinarlas en un único Excel. Las tres hojas de datos son las mismas, sería triplicar el Excel"
      ]
    },
    {
      "cell_type": "markdown",
      "metadata": {
        "id": "wHhRUWkV-g6S"
      },
      "source": [
        "Cargamos el archivo con las 3 bases"
      ]
    },
    {
      "cell_type": "code",
      "metadata": {
        "colab": {
          "resources": {
            "http://localhost:8080/nbextensions/google.colab/files.js": {
              "data": "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",
              "ok": true,
              "headers": [
                [
                  "content-type",
                  "application/javascript"
                ]
              ],
              "status": 200,
              "status_text": ""
            }
          },
          "base_uri": "https://localhost:8080/",
          "height": 72
        },
        "id": "y89K3ZpLxuB9",
        "outputId": "01af31a7-870e-42ed-e80c-141b8d9eb603"
      },
      "source": [
        "from google.colab import files\n",
        "uploaded = files.upload()"
      ],
      "execution_count": null,
      "outputs": [
        {
          "output_type": "display_data",
          "data": {
            "text/html": [
              "\n",
              "     <input type=\"file\" id=\"files-9b5fc043-d6cb-48be-81df-6162f372deb2\" name=\"files[]\" multiple disabled\n",
              "        style=\"border:none\" />\n",
              "     <output id=\"result-9b5fc043-d6cb-48be-81df-6162f372deb2\">\n",
              "      Upload widget is only available when the cell has been executed in the\n",
              "      current browser session. Please rerun this cell to enable.\n",
              "      </output>\n",
              "      <script src=\"/nbextensions/google.colab/files.js\"></script> "
            ],
            "text/plain": [
              "<IPython.core.display.HTML object>"
            ]
          },
          "metadata": {
            "tags": []
          }
        },
        {
          "output_type": "stream",
          "text": [
            "Saving base_tarea_triplicada.xls to base_tarea_triplicada.xls\n"
          ],
          "name": "stdout"
        }
      ]
    },
    {
      "cell_type": "markdown",
      "metadata": {
        "id": "ITNwngsS-iWP"
      },
      "source": [
        "Abrimos las 3 bases por separado"
      ]
    },
    {
      "cell_type": "code",
      "metadata": {
        "id": "3lQk-o3Jx1Dq"
      },
      "source": [
        "triple_1 = pd.read_excel('base_tarea_triplicada.xls', sheet_name=\"Hist_Coal_Prod\")\n",
        "triple_2 = pd.read_excel('base_tarea_triplicada.xls', sheet_name=\"Hist_Coal_Prod (2)\")\n",
        "triple_3 = pd.read_excel('base_tarea_triplicada.xls', sheet_name=\"Hist_Coal_Prod (3)\")\n"
      ],
      "execution_count": null,
      "outputs": []
    },
    {
      "cell_type": "markdown",
      "metadata": {
        "id": "MAx--ttU-pky"
      },
      "source": [
        "Combinamos las 3 bases"
      ]
    },
    {
      "cell_type": "code",
      "metadata": {
        "id": "KOtqHmiZyocr"
      },
      "source": [
        "df_triplicada = pd.concat([triple_1, triple_2, triple_3])\n",
        "df_triplicada"
      ],
      "execution_count": null,
      "outputs": []
    },
    {
      "cell_type": "markdown",
      "metadata": {
        "id": "EIeo69ZXy4fj"
      },
      "source": [
        "# 18-\tDibujar un gráfico de barras comparando el año, el ID, la producción y las horas de trabajo de las primeras 10 observaciones."
      ]
    },
    {
      "cell_type": "markdown",
      "metadata": {
        "id": "X4mRdjVU-sLb"
      },
      "source": [
        "Abrimos la librería matplotlib.pyplot"
      ]
    },
    {
      "cell_type": "code",
      "metadata": {
        "id": "NnS5F4uCzKJd"
      },
      "source": [
        "import matplotlib.pyplot as plt\n",
        "# Para que Matplotlib plots lo muestre en notebook.\n",
        "%matplotlib inline"
      ],
      "execution_count": null,
      "outputs": []
    },
    {
      "cell_type": "markdown",
      "metadata": {
        "id": "wPaIsTTN_Jey"
      },
      "source": [
        "Hacemos el gráfico de barras para la producción y las horas de trabajo de las primeras 10 observaciones"
      ]
    },
    {
      "cell_type": "code",
      "metadata": {
        "colab": {
          "base_uri": "https://localhost:8080/",
          "height": 290
        },
        "id": "svz0qMgTzOAQ",
        "outputId": "520442f9-7c79-4f8e-e379-4fa30ddd12d8"
      },
      "source": [
        "df_10[[\"Production\", \"Labor_Hours\"]].plot(kind =\"bar\")"
      ],
      "execution_count": null,
      "outputs": [
        {
          "output_type": "execute_result",
          "data": {
            "text/plain": [
              "<matplotlib.axes._subplots.AxesSubplot at 0x7fd946b441d0>"
            ]
          },
          "metadata": {
            "tags": []
          },
          "execution_count": 142
        },
        {
          "output_type": "display_data",
          "data": {
            "image/png": "[encoded data removed]",
            "text/plain": [
              "<Figure size 432x288 with 1 Axes>"
            ]
          },
          "metadata": {
            "tags": [],
            "needs_background": "light"
          }
        }
      ]
    },
    {
      "cell_type": "markdown",
      "metadata": {
        "id": "ZQHKVhLV0_ba"
      },
      "source": [
        "# 19-\tDibujar un gráfico de barras de las 10 empresas con mayor producción.  "
      ]
    },
    {
      "cell_type": "code",
      "metadata": {
        "id": "FEcfSilL_X96"
      },
      "source": [
        "Computamos la producción total de cada firma "
      ],
      "execution_count": null,
      "outputs": []
    },
    {
      "cell_type": "code",
      "metadata": {
        "id": "nao4hocZ1RA1"
      },
      "source": [
        "empresas_prod = df[[\"Name\",'Production']].groupby(by=\"Name\").sum()"
      ],
      "execution_count": null,
      "outputs": []
    },
    {
      "cell_type": "markdown",
      "metadata": {
        "id": "EVGVkqJD_tiI"
      },
      "source": [
        "Ordenamos las firmas según su producción, de mayor a menor. Seleccionamos las primeras 10."
      ]
    },
    {
      "cell_type": "code",
      "metadata": {
        "id": "d5JGpscv1gZx"
      },
      "source": [
        "empresas_prod_sort = empresas_prod.sort_values(by=\"Production\", ascending=False)"
      ],
      "execution_count": null,
      "outputs": []
    },
    {
      "cell_type": "code",
      "metadata": {
        "id": "G_FmSXPT11A0"
      },
      "source": [
        "empresas_prod_10 = empresas_prod_sort.head(10)"
      ],
      "execution_count": null,
      "outputs": []
    },
    {
      "cell_type": "markdown",
      "metadata": {
        "id": "-6ZOFVCO_vnj"
      },
      "source": [
        "Graficamos"
      ]
    },
    {
      "cell_type": "code",
      "metadata": {
        "id": "ibTgXXBD2I_1"
      },
      "source": [
        "empresas_prod_10[[\"Production\"]].plot(kind =\"bar\")"
      ],
      "execution_count": null,
      "outputs": []
    }
  ]
}